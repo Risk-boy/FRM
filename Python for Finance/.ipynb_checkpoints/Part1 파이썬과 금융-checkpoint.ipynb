{
 "cells": [
  {
   "cell_type": "markdown",
   "id": "ac3c40bc",
   "metadata": {},
   "source": [
    "## CHAPTER 1 왜 금융 분석에 파이썬을 사용하는 가"
   ]
  },
  {
   "cell_type": "markdown",
   "id": "7cc204e8",
   "metadata": {},
   "source": [
    "### 파이썬의 장점 "
   ]
  },
  {
   "cell_type": "markdown",
   "id": "5f76054d",
   "metadata": {},
   "source": [
    "1. 오픈소스\n",
    "2. 인터프리터 언어\n",
    "    표준 CPython 구현은 파이썬 코드를 런타임 시에 실행 가능한 바이트 코드로 변환하는 인터프리터이다.\n",
    "3. 멀티패러다임\n",
    "    객체지향에서 명령형 프로그래밍, 함수형 프로그래밍, 절차적 프로그래밍 까지 지원\n",
    "4. 다목적\n",
    "    저수준의 시스템 기능 구현 & 고수준의 해석 업무\n",
    "5. 크로스 플랫폼\n",
    "6. 동적 타입\n",
    "7. 들여쓰기 인식\n",
    "8. 가비지 콜렉션"
   ]
  },
  {
   "cell_type": "markdown",
   "id": "5171ac52",
   "metadata": {},
   "source": [
    "### PEP 20(Python Enhancement Proposal 20)"
   ]
  },
  {
   "cell_type": "code",
   "execution_count": 2,
   "id": "4be56cd6",
   "metadata": {},
   "outputs": [
    {
     "name": "stdout",
     "output_type": "stream",
     "text": [
      "The Zen of Python, by Tim Peters\n",
      "\n",
      "Beautiful is better than ugly.\n",
      "Explicit is better than implicit.\n",
      "Simple is better than complex.\n",
      "Complex is better than complicated.\n",
      "Flat is better than nested.\n",
      "Sparse is better than dense.\n",
      "Readability counts.\n",
      "Special cases aren't special enough to break the rules.\n",
      "Although practicality beats purity.\n",
      "Errors should never pass silently.\n",
      "Unless explicitly silenced.\n",
      "In the face of ambiguity, refuse the temptation to guess.\n",
      "There should be one-- and preferably only one --obvious way to do it.\n",
      "Although that way may not be obvious at first unless you're Dutch.\n",
      "Now is better than never.\n",
      "Although never is often better than *right* now.\n",
      "If the implementation is hard to explain, it's a bad idea.\n",
      "If the implementation is easy to explain, it may be a good idea.\n",
      "Namespaces are one honking great idea -- let's do more of those!\n"
     ]
    }
   ],
   "source": [
    "import this"
   ]
  },
  {
   "cell_type": "code",
   "execution_count": 3,
   "id": "5d690f39",
   "metadata": {},
   "outputs": [],
   "source": [
    "import math\n",
    "math.log?"
   ]
  },
  {
   "cell_type": "code",
   "execution_count": 4,
   "id": "507d2fb9",
   "metadata": {},
   "outputs": [],
   "source": [
    "math.log??"
   ]
  },
  {
   "cell_type": "markdown",
   "id": "3788a33f",
   "metadata": {},
   "source": [
    "### 과학기술용 표준 라이브러리 모음(Scientific stack)"
   ]
  },
  {
   "cell_type": "markdown",
   "id": "b0d6cb3f",
   "metadata": {},
   "source": [
    "- Numpy\n",
    "- SciPy\n",
    "- matplotlib\n",
    "- PyTables\n",
    "- pandas"
   ]
  },
  {
   "cell_type": "markdown",
   "id": "ab06a10e",
   "metadata": {},
   "source": [
    "금융 산업이 기술의 진보에 의해 영향을 받는 한 가지 측면은 바로 금융거래가 결정되고 집행되는 속도와 빈도"
   ]
  },
  {
   "cell_type": "markdown",
   "id": "f40b08e5",
   "metadata": {},
   "source": [
    "### 금융 분야의 기술 특징"
   ]
  },
  {
   "cell_type": "markdown",
   "id": "3fc2cd83",
   "metadata": {},
   "source": [
    "- 금융산업의 기술 비용\n",
    "- 새로운 비즈니스와 혁신을 가능하게 하는 기술\n",
    "- 금융산업의 진입 장벽으로서의 기술과 전문 인력\n",
    "- 증가하는 속도와 빈도, 정보의 양\n",
    "- 실시간 분석의 증가"
   ]
  },
  {
   "cell_type": "code",
   "execution_count": 6,
   "id": "fb2d0717",
   "metadata": {},
   "outputs": [
    {
     "name": "stdout",
     "output_type": "stream",
     "text": [
      "8.007830977578639\n"
     ]
    }
   ],
   "source": [
    "# 블랙-숄즈-머튼 모형을 사용한 유러피안 콜 옵션의 몬테카를로 방식 가격 계산\n",
    "\n",
    "import numpy as np\n",
    "\n",
    "# parameter \n",
    "S0 = 100 # 초기의 주가지수\n",
    "K = 105 # 행사가 \n",
    "T = 1 # 만기까지 남은 시간\n",
    "r = 0.05 # 무위험 이자율\n",
    "sigma = 0.2 # 변동성 \n",
    "\n",
    "I = 100000 # 시뮬레이션 횟수\n",
    "\n",
    "# 가격결정 알고리즘\n",
    "z = np.random.standard_normal(I) # 의사 난수\n",
    "ST = S0 * np.exp((r-0.5*sigma**2)*T + sigma*np.sqrt(T)*z) # 만기 시의 주가지수\n",
    "hT = np.maximum(ST - K, 0) # 만기 시의 내재 가치\n",
    "C0 = np.exp(-r*T) * np.sum(hT) / I # 몬테카를로 추정식 \n",
    "\n",
    "print(C0)"
   ]
  },
  {
   "cell_type": "markdown",
   "id": "8337225c",
   "metadata": {},
   "source": [
    "### 구글 주가와 연간 변동성"
   ]
  },
  {
   "cell_type": "code",
   "execution_count": 8,
   "id": "fd0acf57",
   "metadata": {},
   "outputs": [],
   "source": [
    "import numpy as np\n",
    "import pandas as pd\n",
    "from pandas_datareader import data as web # pip install pandas-datareader 필요"
   ]
  },
  {
   "cell_type": "code",
   "execution_count": 14,
   "id": "c22bc3ff",
   "metadata": {},
   "outputs": [
    {
     "data": {
      "text/html": [
       "<div>\n",
       "<style scoped>\n",
       "    .dataframe tbody tr th:only-of-type {\n",
       "        vertical-align: middle;\n",
       "    }\n",
       "\n",
       "    .dataframe tbody tr th {\n",
       "        vertical-align: top;\n",
       "    }\n",
       "\n",
       "    .dataframe thead th {\n",
       "        text-align: right;\n",
       "    }\n",
       "</style>\n",
       "<table border=\"1\" class=\"dataframe\">\n",
       "  <thead>\n",
       "    <tr style=\"text-align: right;\">\n",
       "      <th></th>\n",
       "      <th>High</th>\n",
       "      <th>Low</th>\n",
       "      <th>Open</th>\n",
       "      <th>Close</th>\n",
       "      <th>Volume</th>\n",
       "      <th>Adj Close</th>\n",
       "    </tr>\n",
       "    <tr>\n",
       "      <th>Date</th>\n",
       "      <th></th>\n",
       "      <th></th>\n",
       "      <th></th>\n",
       "      <th></th>\n",
       "      <th></th>\n",
       "      <th></th>\n",
       "    </tr>\n",
       "  </thead>\n",
       "  <tbody>\n",
       "    <tr>\n",
       "      <th>2022-08-23</th>\n",
       "      <td>115.930000</td>\n",
       "      <td>114.300003</td>\n",
       "      <td>114.320000</td>\n",
       "      <td>114.769997</td>\n",
       "      <td>14390700.0</td>\n",
       "      <td>114.769997</td>\n",
       "    </tr>\n",
       "    <tr>\n",
       "      <th>2022-08-24</th>\n",
       "      <td>115.717003</td>\n",
       "      <td>113.779999</td>\n",
       "      <td>114.449997</td>\n",
       "      <td>114.699997</td>\n",
       "      <td>16051200.0</td>\n",
       "      <td>114.699997</td>\n",
       "    </tr>\n",
       "    <tr>\n",
       "      <th>2022-08-25</th>\n",
       "      <td>117.779999</td>\n",
       "      <td>115.050003</td>\n",
       "      <td>115.150002</td>\n",
       "      <td>117.699997</td>\n",
       "      <td>14874700.0</td>\n",
       "      <td>117.699997</td>\n",
       "    </tr>\n",
       "    <tr>\n",
       "      <th>2022-08-26</th>\n",
       "      <td>116.599998</td>\n",
       "      <td>111.220001</td>\n",
       "      <td>115.809998</td>\n",
       "      <td>111.300003</td>\n",
       "      <td>31664800.0</td>\n",
       "      <td>111.300003</td>\n",
       "    </tr>\n",
       "    <tr>\n",
       "      <th>2022-08-29</th>\n",
       "      <td>111.959999</td>\n",
       "      <td>109.809998</td>\n",
       "      <td>110.779999</td>\n",
       "      <td>110.339996</td>\n",
       "      <td>20386100.0</td>\n",
       "      <td>110.339996</td>\n",
       "    </tr>\n",
       "  </tbody>\n",
       "</table>\n",
       "</div>"
      ],
      "text/plain": [
       "                  High         Low        Open       Close      Volume  \\\n",
       "Date                                                                     \n",
       "2022-08-23  115.930000  114.300003  114.320000  114.769997  14390700.0   \n",
       "2022-08-24  115.717003  113.779999  114.449997  114.699997  16051200.0   \n",
       "2022-08-25  117.779999  115.050003  115.150002  117.699997  14874700.0   \n",
       "2022-08-26  116.599998  111.220001  115.809998  111.300003  31664800.0   \n",
       "2022-08-29  111.959999  109.809998  110.779999  110.339996  20386100.0   \n",
       "\n",
       "             Adj Close  \n",
       "Date                    \n",
       "2022-08-23  114.769997  \n",
       "2022-08-24  114.699997  \n",
       "2022-08-25  117.699997  \n",
       "2022-08-26  111.300003  \n",
       "2022-08-29  110.339996  "
      ]
     },
     "execution_count": 14,
     "metadata": {},
     "output_type": "execute_result"
    }
   ],
   "source": [
    "# 필요한 자료를 구글에서 가져오기\n",
    "\n",
    "goog = web.DataReader('GOOG', 'yahoo', start='8/30/2017', end='8/29/2022')\n",
    "goog.tail()\n",
    "# data_source 자리에 google을 넣으면 오류 발생"
   ]
  },
  {
   "cell_type": "code",
   "execution_count": 15,
   "id": "3b8fc59e",
   "metadata": {},
   "outputs": [],
   "source": [
    "goog['Log_Ret'] = np.log(goog['Close'] / goog['Close'].shift(1))\n",
    "goog['Volatility'] = goog['Log_Ret'].rolling(window=252, center=False).std()"
   ]
  },
  {
   "cell_type": "code",
   "execution_count": 16,
   "id": "369b4f0e",
   "metadata": {},
   "outputs": [
    {
     "data": {
      "text/html": [
       "<div>\n",
       "<style scoped>\n",
       "    .dataframe tbody tr th:only-of-type {\n",
       "        vertical-align: middle;\n",
       "    }\n",
       "\n",
       "    .dataframe tbody tr th {\n",
       "        vertical-align: top;\n",
       "    }\n",
       "\n",
       "    .dataframe thead th {\n",
       "        text-align: right;\n",
       "    }\n",
       "</style>\n",
       "<table border=\"1\" class=\"dataframe\">\n",
       "  <thead>\n",
       "    <tr style=\"text-align: right;\">\n",
       "      <th></th>\n",
       "      <th>High</th>\n",
       "      <th>Low</th>\n",
       "      <th>Open</th>\n",
       "      <th>Close</th>\n",
       "      <th>Volume</th>\n",
       "      <th>Adj Close</th>\n",
       "      <th>Log_Ret</th>\n",
       "      <th>Volatility</th>\n",
       "    </tr>\n",
       "    <tr>\n",
       "      <th>Date</th>\n",
       "      <th></th>\n",
       "      <th></th>\n",
       "      <th></th>\n",
       "      <th></th>\n",
       "      <th></th>\n",
       "      <th></th>\n",
       "      <th></th>\n",
       "      <th></th>\n",
       "    </tr>\n",
       "  </thead>\n",
       "  <tbody>\n",
       "    <tr>\n",
       "      <th>2022-08-23</th>\n",
       "      <td>115.930000</td>\n",
       "      <td>114.300003</td>\n",
       "      <td>114.320000</td>\n",
       "      <td>114.769997</td>\n",
       "      <td>14390700.0</td>\n",
       "      <td>114.769997</td>\n",
       "      <td>-0.002611</td>\n",
       "      <td>0.020926</td>\n",
       "    </tr>\n",
       "    <tr>\n",
       "      <th>2022-08-24</th>\n",
       "      <td>115.717003</td>\n",
       "      <td>113.779999</td>\n",
       "      <td>114.449997</td>\n",
       "      <td>114.699997</td>\n",
       "      <td>16051200.0</td>\n",
       "      <td>114.699997</td>\n",
       "      <td>-0.000610</td>\n",
       "      <td>0.020916</td>\n",
       "    </tr>\n",
       "    <tr>\n",
       "      <th>2022-08-25</th>\n",
       "      <td>117.779999</td>\n",
       "      <td>115.050003</td>\n",
       "      <td>115.150002</td>\n",
       "      <td>117.699997</td>\n",
       "      <td>14874700.0</td>\n",
       "      <td>117.699997</td>\n",
       "      <td>0.025819</td>\n",
       "      <td>0.020982</td>\n",
       "    </tr>\n",
       "    <tr>\n",
       "      <th>2022-08-26</th>\n",
       "      <td>116.599998</td>\n",
       "      <td>111.220001</td>\n",
       "      <td>115.809998</td>\n",
       "      <td>111.300003</td>\n",
       "      <td>31664800.0</td>\n",
       "      <td>111.300003</td>\n",
       "      <td>-0.055910</td>\n",
       "      <td>0.021265</td>\n",
       "    </tr>\n",
       "    <tr>\n",
       "      <th>2022-08-29</th>\n",
       "      <td>111.959999</td>\n",
       "      <td>109.809998</td>\n",
       "      <td>110.779999</td>\n",
       "      <td>110.339996</td>\n",
       "      <td>20386100.0</td>\n",
       "      <td>110.339996</td>\n",
       "      <td>-0.008663</td>\n",
       "      <td>0.021240</td>\n",
       "    </tr>\n",
       "  </tbody>\n",
       "</table>\n",
       "</div>"
      ],
      "text/plain": [
       "                  High         Low        Open       Close      Volume  \\\n",
       "Date                                                                     \n",
       "2022-08-23  115.930000  114.300003  114.320000  114.769997  14390700.0   \n",
       "2022-08-24  115.717003  113.779999  114.449997  114.699997  16051200.0   \n",
       "2022-08-25  117.779999  115.050003  115.150002  117.699997  14874700.0   \n",
       "2022-08-26  116.599998  111.220001  115.809998  111.300003  31664800.0   \n",
       "2022-08-29  111.959999  109.809998  110.779999  110.339996  20386100.0   \n",
       "\n",
       "             Adj Close   Log_Ret  Volatility  \n",
       "Date                                          \n",
       "2022-08-23  114.769997 -0.002611    0.020926  \n",
       "2022-08-24  114.699997 -0.000610    0.020916  \n",
       "2022-08-25  117.699997  0.025819    0.020982  \n",
       "2022-08-26  111.300003 -0.055910    0.021265  \n",
       "2022-08-29  110.339996 -0.008663    0.021240  "
      ]
     },
     "execution_count": 16,
     "metadata": {},
     "output_type": "execute_result"
    }
   ],
   "source": [
    "goog.tail()"
   ]
  },
  {
   "cell_type": "code",
   "execution_count": 18,
   "id": "8a7773af",
   "metadata": {},
   "outputs": [
    {
     "data": {
      "text/plain": [
       "array([<AxesSubplot:xlabel='Date'>, <AxesSubplot:xlabel='Date'>],\n",
       "      dtype=object)"
      ]
     },
     "execution_count": 18,
     "metadata": {},
     "output_type": "execute_result"
    },
    {
     "data": {
      "image/png": "[encoded data removed]",
      "text/plain": [
       "<Figure size 576x432 with 2 Axes>"
      ]
     },
     "metadata": {
      "needs_background": "light"
     },
     "output_type": "display_data"
    }
   ],
   "source": [
    "goog[['Close', 'Volatility']].plot(subplots=True, color='blue', figsize=(8, 6))"
   ]
  },
  {
   "cell_type": "markdown",
   "id": "2c712665",
   "metadata": {},
   "source": [
    "파이썬은 인터프리터 언어라서 계산량이 많은 금융 분야 작업에서는 느릴 수 있지만 성능을 향상 시킬 수 있음 "
   ]
  },
  {
   "cell_type": "markdown",
   "id": "376dea15",
   "metadata": {},
   "source": [
    "- 패러다임 </br>\n",
    "    - 적절한 라이브러리를 사용\n",
    "- 컴파일 </br>\n",
    "    - Cython </br>\n",
    "    - Numba\n",
    "- 병렬화 </br>\n",
    "    - 파이썬을 쓰면 쉽게 병렬처리를 구현가능"
   ]
  },
  {
   "cell_type": "code",
   "execution_count": null,
   "id": "f9ad7e5b",
   "metadata": {},
   "outputs": [],
   "source": []
  }
 ],
 "metadata": {
  "kernelspec": {
   "display_name": "Python 3 (ipykernel)",
   "language": "python",
   "name": "python3"
  },
  "language_info": {
   "codemirror_mode": {
    "name": "ipython",
    "version": 3
   },
   "file_extension": ".py",
   "mimetype": "text/x-python",
   "name": "python",
   "nbconvert_exporter": "python",
   "pygments_lexer": "ipython3",
   "version": "3.9.12"
  },
  "toc": {
   "base_numbering": 1,
   "nav_menu": {},
   "number_sections": false,
   "sideBar": true,
   "skip_h1_title": false,
   "title_cell": "Table of Contents",
   "title_sidebar": "Contents",
   "toc_cell": false,
   "toc_position": {},
   "toc_section_display": true,
   "toc_window_display": false
  }
 },
 "nbformat": 4,
 "nbformat_minor": 5
}
